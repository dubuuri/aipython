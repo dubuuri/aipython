{
  "nbformat": 4,
  "nbformat_minor": 0,
  "metadata": {
    "colab": {
      "provenance": [],
      "authorship_tag": "ABX9TyPkN2n9BZVj5X/WawL83vXi",
      "include_colab_link": true
    },
    "kernelspec": {
      "name": "python3",
      "display_name": "Python 3"
    },
    "language_info": {
      "name": "python"
    }
  },
  "cells": [
    {
      "cell_type": "markdown",
      "metadata": {
        "id": "view-in-github",
        "colab_type": "text"
      },
      "source": [
        "<a href=\"https://colab.research.google.com/github/dubuuri/aipython/blob/main/20240104.ipynb\" target=\"_parent\"><img src=\"https://colab.research.google.com/assets/colab-badge.svg\" alt=\"Open In Colab\"/></a>"
      ]
    },
    {
      "cell_type": "code",
      "source": [
        "a = 1\n",
        "while a <= 3 :\n",
        "  print('안녕', a)\n",
        "  a += 1"
      ],
      "metadata": {
        "colab": {
          "base_uri": "https://localhost:8080/"
        },
        "id": "KJ-0fuHgE6PV",
        "outputId": "8f59b958-d0c4-412c-9087-41bd011accf3"
      },
      "execution_count": 5,
      "outputs": [
        {
          "output_type": "stream",
          "name": "stdout",
          "text": [
            "안녕 1\n",
            "안녕 2\n",
            "안녕 3\n"
          ]
        }
      ]
    },
    {
      "cell_type": "code",
      "source": [
        "# 중첩조건문\n",
        "\n",
        "c=0\n",
        "\n",
        "for i in range(4) :\n",
        "  for c in range(4) :\n",
        "    if c%4==0 :\n",
        "      print(i+1, \"Welcome\")\n",
        "    else :\n",
        "      print(c, \"Hello\")\n",
        "    c += 1\n",
        "  i += 1\n",
        "\n",
        "print(\"Done\")"
      ],
      "metadata": {
        "colab": {
          "base_uri": "https://localhost:8080/"
        },
        "id": "2tBFWTfeE7Bb",
        "outputId": "eb71cb0c-6036-4f1f-f3ce-63a09b3ec3a2"
      },
      "execution_count": 12,
      "outputs": [
        {
          "output_type": "stream",
          "name": "stdout",
          "text": [
            "1 Welcome\n",
            "1 Hello\n",
            "2 Hello\n",
            "3 Hello\n",
            "2 Welcome\n",
            "1 Hello\n",
            "2 Hello\n",
            "3 Hello\n",
            "3 Welcome\n",
            "1 Hello\n",
            "2 Hello\n",
            "3 Hello\n",
            "4 Welcome\n",
            "1 Hello\n",
            "2 Hello\n",
            "3 Hello\n",
            "Done\n"
          ]
        }
      ]
    },
    {
      "cell_type": "code",
      "source": [
        "A, B, C = map(int, input().split())\n",
        "if A <= B <= C or C <= B <= A :\n",
        "  print(B)\n",
        "elif B <= C <= A or A <= C <= B :\n",
        "  print(C)\n",
        "else :\n",
        "  print(A)"
      ],
      "metadata": {
        "colab": {
          "base_uri": "https://localhost:8080/"
        },
        "id": "_UeQNb7gJ88C",
        "outputId": "89f9d65d-7d95-4105-b0f0-6d6f45bc1290"
      },
      "execution_count": 15,
      "outputs": [
        {
          "output_type": "stream",
          "name": "stdout",
          "text": [
            "30 40 10\n",
            "30\n"
          ]
        }
      ]
    },
    {
      "cell_type": "code",
      "source": [
        "A, B, C = map(int, input().split())\n",
        "nums = [A, B, C]\n",
        "nums.sort()\n",
        "print(nums)"
      ],
      "metadata": {
        "colab": {
          "base_uri": "https://localhost:8080/"
        },
        "id": "5IJ7HBkZMkkI",
        "outputId": "925624ec-2663-42d2-a399-c3610c49f908"
      },
      "execution_count": 17,
      "outputs": [
        {
          "output_type": "stream",
          "name": "stdout",
          "text": [
            "20 30 10\n",
            "[10, 20, 30]\n"
          ]
        }
      ]
    },
    {
      "cell_type": "code",
      "source": [
        "nums = [1, 2, 3]\n",
        "nums[1] = 0"
      ],
      "metadata": {
        "id": "AsOqPmzRP8kU"
      },
      "execution_count": 28,
      "outputs": []
    },
    {
      "cell_type": "code",
      "source": [
        "num = (1, 2, 3)\n",
        "num[1] = 0"
      ],
      "metadata": {
        "colab": {
          "base_uri": "https://localhost:8080/",
          "height": 225
        },
        "id": "uwnR3-lXQFwa",
        "outputId": "e7e625e7-1c9c-4c41-bfb2-4dcfde232ab3"
      },
      "execution_count": 30,
      "outputs": [
        {
          "output_type": "error",
          "ename": "TypeError",
          "evalue": "ignored",
          "traceback": [
            "\u001b[0;31m---------------------------------------------------------------------------\u001b[0m",
            "\u001b[0;31mTypeError\u001b[0m                                 Traceback (most recent call last)",
            "\u001b[0;32m<ipython-input-30-d7ab859a79d4>\u001b[0m in \u001b[0;36m<cell line: 2>\u001b[0;34m()\u001b[0m\n\u001b[1;32m      1\u001b[0m \u001b[0mnum\u001b[0m \u001b[0;34m=\u001b[0m \u001b[0;34m(\u001b[0m\u001b[0;36m1\u001b[0m\u001b[0;34m,\u001b[0m \u001b[0;36m2\u001b[0m\u001b[0;34m,\u001b[0m \u001b[0;36m3\u001b[0m\u001b[0;34m)\u001b[0m\u001b[0;34m\u001b[0m\u001b[0;34m\u001b[0m\u001b[0m\n\u001b[0;32m----> 2\u001b[0;31m \u001b[0mnum\u001b[0m\u001b[0;34m[\u001b[0m\u001b[0;36m1\u001b[0m\u001b[0;34m]\u001b[0m \u001b[0;34m=\u001b[0m \u001b[0;36m0\u001b[0m\u001b[0;34m\u001b[0m\u001b[0;34m\u001b[0m\u001b[0m\n\u001b[0m",
            "\u001b[0;31mTypeError\u001b[0m: 'tuple' object does not support item assignment"
          ]
        }
      ]
    },
    {
      "cell_type": "code",
      "source": [
        "score = [[29, 28, 27, 20],\n",
        "       [30, 20, 27, 29],\n",
        "       [23, 25, 29, 30]]\n",
        "\n",
        "for r in range(3) :\n",
        "  for c in range(4) :\n",
        "    print(score[r][c], end = \" \")\n",
        "  print()"
      ],
      "metadata": {
        "colab": {
          "base_uri": "https://localhost:8080/"
        },
        "id": "CpJH6TkFQO1u",
        "outputId": "bd506a73-606c-4f15-ac18-20a1030d7f5f"
      },
      "execution_count": 41,
      "outputs": [
        {
          "output_type": "stream",
          "name": "stdout",
          "text": [
            "29 28 27 20 \n",
            "30 20 27 29 \n",
            "23 25 29 30 \n"
          ]
        }
      ]
    },
    {
      "cell_type": "code",
      "source": [
        "score = [[29, 28, 27, 20],\n",
        "       [30, 20, 27, 29],\n",
        "       [23, 25, 29, 30]]\n",
        "\n",
        "for r in range(len(score)) :\n",
        "  for c in range(len(score[r])) :\n",
        "    print(score[r][c], end = \" \")\n",
        "  print()"
      ],
      "metadata": {
        "colab": {
          "base_uri": "https://localhost:8080/"
        },
        "id": "SzLwc5egbe6e",
        "outputId": "c7119033-0a03-4965-cc41-eb7cde3bd926"
      },
      "execution_count": 43,
      "outputs": [
        {
          "output_type": "stream",
          "name": "stdout",
          "text": [
            "29 28 27 20 \n",
            "30 20 27 29 \n",
            "23 25 29 30 \n"
          ]
        }
      ]
    }
  ]
}