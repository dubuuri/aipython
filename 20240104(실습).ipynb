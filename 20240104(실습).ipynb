{
  "nbformat": 4,
  "nbformat_minor": 0,
  "metadata": {
    "colab": {
      "provenance": [],
      "authorship_tag": "ABX9TyM9ZktsFqVPTzCaOiQyb+yU",
      "include_colab_link": true
    },
    "kernelspec": {
      "name": "python3",
      "display_name": "Python 3"
    },
    "language_info": {
      "name": "python"
    }
  },
  "cells": [
    {
      "cell_type": "markdown",
      "metadata": {
        "id": "view-in-github",
        "colab_type": "text"
      },
      "source": [
        "<a href=\"https://colab.research.google.com/github/dubuuri/aipython/blob/main/20240104(%EC%8B%A4%EC%8A%B5).ipynb\" target=\"_parent\"><img src=\"https://colab.research.google.com/assets/colab-badge.svg\" alt=\"Open In Colab\"/></a>"
      ]
    },
    {
      "cell_type": "code",
      "execution_count": 20,
      "metadata": {
        "colab": {
          "base_uri": "https://localhost:8080/"
        },
        "id": "tcsI8MNpcyYG",
        "outputId": "37ffb6a9-3c5a-4c73-bfd4-1795ee042946"
      },
      "outputs": [
        {
          "output_type": "stream",
          "name": "stdout",
          "text": [
            "학생의 점수를 입력하세요. 90\n",
            "학생의 점수를 입력하세요. 70\n",
            "학생의 점수를 입력하세요. 30\n",
            "학생의 점수를 입력하세요. x\n",
            "입력 데이터 출력 :  [90, 70, 30]\n",
            "합계 :  190\n",
            "인원수 :  3\n",
            "평균 : 63.333333333333336\n"
          ]
        }
      ],
      "source": [
        "score = []\n",
        "\n",
        "while True:\n",
        "    a = input(\"학생의 점수를 입력하세요. \")\n",
        "    if (a.isdigit()) :\n",
        "     score.append(a)\n",
        "    else :\n",
        "       break\n",
        "\n",
        "score = list(map(int, score))\n",
        "print(\"입력 데이터 출력 : \", score)\n",
        "print(\"합계 : \", sum(score))\n",
        "print(\"인원수 : \", len(score))\n",
        "print(\"평균 :\", sum(score) / len(score))"
      ]
    }
  ]
}