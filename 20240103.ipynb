{
  "nbformat": 4,
  "nbformat_minor": 0,
  "metadata": {
    "colab": {
      "provenance": [],
      "authorship_tag": "ABX9TyOB+mTmH8TZNhA3Vy2FYFmw",
      "include_colab_link": true
    },
    "kernelspec": {
      "name": "python3",
      "display_name": "Python 3"
    },
    "language_info": {
      "name": "python"
    }
  },
  "cells": [
    {
      "cell_type": "markdown",
      "metadata": {
        "id": "view-in-github",
        "colab_type": "text"
      },
      "source": [
        "<a href=\"https://colab.research.google.com/github/dubuuri/aipython/blob/main/20240103.ipynb\" target=\"_parent\"><img src=\"https://colab.research.google.com/assets/colab-badge.svg\" alt=\"Open In Colab\"/></a>"
      ]
    },
    {
      "cell_type": "code",
      "execution_count": null,
      "metadata": {
        "colab": {
          "base_uri": "https://localhost:8080/"
        },
        "id": "duUF9FZP6tAH",
        "outputId": "17e7ed62-2331-4cc5-ea85-469435eb53ac"
      },
      "outputs": [
        {
          "output_type": "stream",
          "name": "stdout",
          "text": [
            "a는 5보다 큽니다.\n",
            "end\n"
          ]
        }
      ],
      "source": [
        "a = 10\n",
        "\n",
        "if a > 5:\n",
        "  print(\"a는 5보다 큽니다.\")\n",
        "print(\"end\")"
      ]
    },
    {
      "cell_type": "code",
      "source": [
        "gender = \"F\"\n",
        "\n",
        "if gender == \"M\" :\n",
        "  print(\"남자입니다.\")\n",
        "if gender == \"F\" :\n",
        "  print(\"여자입니다.\")"
      ],
      "metadata": {
        "colab": {
          "base_uri": "https://localhost:8080/"
        },
        "id": "Z3-NY90v60Ls",
        "outputId": "2e1c276f-011b-43d8-999c-8474ef2b1d72"
      },
      "execution_count": null,
      "outputs": [
        {
          "output_type": "stream",
          "name": "stdout",
          "text": [
            "여자입니다.\n"
          ]
        }
      ]
    },
    {
      "cell_type": "code",
      "source": [
        "gender = \"F\"\n",
        "\n",
        "if gender == \"M\" :\n",
        "  print(\"남자입니다.\")\n",
        "else :\n",
        "  print(\"여자입니다.\")"
      ],
      "metadata": {
        "colab": {
          "base_uri": "https://localhost:8080/"
        },
        "id": "2RK6Uw8r87ex",
        "outputId": "e744ab30-f13e-47ca-98b6-53eca213ec0e"
      },
      "execution_count": null,
      "outputs": [
        {
          "output_type": "stream",
          "name": "stdout",
          "text": [
            "여자입니다.\n"
          ]
        }
      ]
    },
    {
      "cell_type": "code",
      "source": [
        "score = int(input(\"점수를 입력하세요: \"))\n",
        "\n",
        "if score >= 90 :\n",
        "  print(\"A\")\n",
        "elif score >= 80 :\n",
        "  print(\"B\")\n",
        "elif score >= 70 :\n",
        "  print(\"C\")\n",
        "else :\n",
        "  print(\"D\")"
      ],
      "metadata": {
        "colab": {
          "base_uri": "https://localhost:8080/"
        },
        "id": "CEy7Su_W9f2O",
        "outputId": "3071fc09-0f01-4ba0-a7aa-498f8cd3055b"
      },
      "execution_count": null,
      "outputs": [
        {
          "output_type": "stream",
          "name": "stdout",
          "text": [
            "점수를 입력하세요: 80\n",
            "B\n"
          ]
        }
      ]
    },
    {
      "cell_type": "code",
      "source": [
        "a = 10\n",
        "b = 5\n",
        "\n",
        "if a > 5 :\n",
        "  if b < 10 :\n",
        "    print(\"a는 5보다 크고, b는 10보다 작습니다.\")"
      ],
      "metadata": {
        "colab": {
          "base_uri": "https://localhost:8080/"
        },
        "id": "mVQYajNW-o2d",
        "outputId": "c863dacb-c0a9-461e-9fb7-ab97868e4b6c"
      },
      "execution_count": null,
      "outputs": [
        {
          "output_type": "stream",
          "name": "stdout",
          "text": [
            "a는 5보다 크고, b는 10보다 작습니다.\n"
          ]
        }
      ]
    },
    {
      "cell_type": "code",
      "source": [
        "a = 10\n",
        "b = 5\n",
        "\n",
        "if a > 5 and b < 10 :\n",
        "    print(\"a는 5보다 크고, b는 10보다 작습니다.\")"
      ],
      "metadata": {
        "colab": {
          "base_uri": "https://localhost:8080/"
        },
        "id": "EP7qWjogBiC5",
        "outputId": "de57d6fe-d8c8-4952-a22d-efc630dad7b1"
      },
      "execution_count": null,
      "outputs": [
        {
          "output_type": "stream",
          "name": "stdout",
          "text": [
            "a는 5보다 크고, b는 10보다 작습니다.\n"
          ]
        }
      ]
    },
    {
      "cell_type": "code",
      "source": [
        "a = [1, 2, 3, 4, 5]\n",
        "\n",
        "for i in a :\n",
        "  print(i, end = \" \")"
      ],
      "metadata": {
        "colab": {
          "base_uri": "https://localhost:8080/"
        },
        "id": "EybH6q2HCf5k",
        "outputId": "f5d71161-a88f-42d9-da4f-006f0c2008d1"
      },
      "execution_count": null,
      "outputs": [
        {
          "output_type": "stream",
          "name": "stdout",
          "text": [
            "1 2 3 4 5 "
          ]
        }
      ]
    },
    {
      "cell_type": "code",
      "source": [
        "for i in range(1, 10, 2) :\n",
        "  print(i, end = \" \")"
      ],
      "metadata": {
        "colab": {
          "base_uri": "https://localhost:8080/"
        },
        "id": "94t1JPUCEmR8",
        "outputId": "78afb50a-8dfa-4a2c-9788-6587a367bc18"
      },
      "execution_count": null,
      "outputs": [
        {
          "output_type": "stream",
          "name": "stdout",
          "text": [
            "1 3 5 7 9 "
          ]
        }
      ]
    },
    {
      "cell_type": "code",
      "source": [
        "for i in range(10) :\n",
        "  print(i, end = \" \")"
      ],
      "metadata": {
        "colab": {
          "base_uri": "https://localhost:8080/"
        },
        "id": "qZP5H5zBErYG",
        "outputId": "d33f2628-8d83-4db4-bd66-1254a3bcbd19"
      },
      "execution_count": null,
      "outputs": [
        {
          "output_type": "stream",
          "name": "stdout",
          "text": [
            "0 1 2 3 4 5 6 7 8 9 "
          ]
        }
      ]
    },
    {
      "cell_type": "code",
      "source": [
        "for x in \"월화수\" :\n",
        "  print(x)"
      ],
      "metadata": {
        "colab": {
          "base_uri": "https://localhost:8080/"
        },
        "id": "KuYkU0nuFMJk",
        "outputId": "253b3b90-13c7-4c76-e520-e347f8619246"
      },
      "execution_count": null,
      "outputs": [
        {
          "output_type": "stream",
          "name": "stdout",
          "text": [
            "월\n",
            "화\n",
            "수\n"
          ]
        }
      ]
    },
    {
      "cell_type": "code",
      "source": [
        "n = int(input())\n",
        "sum = 0\n",
        "\n",
        "for i in range(1,n+1) :\n",
        "  sum += i\n",
        "\n",
        "print(sum)"
      ],
      "metadata": {
        "colab": {
          "base_uri": "https://localhost:8080/"
        },
        "id": "iCW7u7R1Hgwl",
        "outputId": "87019c71-9363-4c1d-e26b-03e7a2dd1684"
      },
      "execution_count": null,
      "outputs": [
        {
          "output_type": "stream",
          "name": "stdout",
          "text": [
            "5\n",
            "15\n"
          ]
        }
      ]
    },
    {
      "cell_type": "code",
      "source": [
        "n = int(input())\n",
        "sum = 0\n",
        "\n",
        "for i in range(1, n+1) :\n",
        "  sum += i\n",
        "\n",
        "print(sum)"
      ],
      "metadata": {
        "colab": {
          "base_uri": "https://localhost:8080/"
        },
        "id": "bqvcFLHg8wQC",
        "outputId": "b0bc79db-6c9d-404a-9003-92734af31bf4"
      },
      "execution_count": null,
      "outputs": [
        {
          "output_type": "stream",
          "name": "stdout",
          "text": [
            "3\n",
            "6\n"
          ]
        }
      ]
    },
    {
      "cell_type": "code",
      "source": [
        "A, B, C = map(int, input().split())\n",
        "\n",
        "if A >= B >= C or C >= B >= A:\n",
        "    print(int(B))\n",
        "elif B >= A >= C or C >= A >= B:\n",
        "    print(int(A))\n",
        "else:\n",
        "    print(int(C))"
      ],
      "metadata": {
        "colab": {
          "base_uri": "https://localhost:8080/"
        },
        "id": "bM1YGpJmKfcL",
        "outputId": "030294b5-589c-4a76-bcb7-fbe3c310372b"
      },
      "execution_count": null,
      "outputs": [
        {
          "output_type": "stream",
          "name": "stdout",
          "text": [
            "20 30 10\n",
            "20\n"
          ]
        }
      ]
    },
    {
      "cell_type": "code",
      "source": [
        "A, B, C = map(int, input().split())"
      ],
      "metadata": {
        "colab": {
          "base_uri": "https://localhost:8080/"
        },
        "id": "KVQf8skF9G3c",
        "outputId": "e056b860-ed29-47cb-8a7d-939b651881ea"
      },
      "execution_count": null,
      "outputs": [
        {
          "name": "stdout",
          "output_type": "stream",
          "text": [
            "20 30 10\n"
          ]
        }
      ]
    },
    {
      "cell_type": "code",
      "source": [
        "def add(x,y) :\n",
        "  s = x + y\n",
        "  a = s / 2\n",
        "  return s, a\n",
        "\n",
        "h,a = add(10,20)\n",
        "print(\"합:\",h,\"평균:\",a)"
      ],
      "metadata": {
        "colab": {
          "base_uri": "https://localhost:8080/"
        },
        "id": "MrYvFP3LPC5X",
        "outputId": "680ecb17-e288-4d16-dc23-b79052f0454c"
      },
      "execution_count": null,
      "outputs": [
        {
          "output_type": "stream",
          "name": "stdout",
          "text": [
            "합: 30 평균: 15.0\n"
          ]
        }
      ]
    },
    {
      "cell_type": "code",
      "source": [
        "def add(x,y) :\n",
        "  s = x + y\n",
        "  a = s / 2\n",
        "  return s, a\n",
        "\n",
        "s,a = add(10,20)\n",
        "print(\"합:\",s,\"평균:\",a)"
      ],
      "metadata": {
        "colab": {
          "base_uri": "https://localhost:8080/"
        },
        "id": "-xuj3dDp8RtX",
        "outputId": "b76cf90b-aacd-49b7-b63d-b39f1c4695c2"
      },
      "execution_count": null,
      "outputs": [
        {
          "output_type": "stream",
          "name": "stdout",
          "text": [
            "합: 30 평균: 15.0\n"
          ]
        }
      ]
    },
    {
      "cell_type": "code",
      "source": [
        "def add(x,y) :\n",
        "  s = x + y\n",
        "  a = s / 2\n",
        "  return s, a\n",
        "\n",
        "h,a = add(10,20)\n",
        "print(\"합:%d 평균:%.2f\"%(h,a))"
      ],
      "metadata": {
        "colab": {
          "base_uri": "https://localhost:8080/"
        },
        "id": "I8apyNgnPrut",
        "outputId": "ea77e182-3c3b-4d59-edfa-0f87c3d25e31"
      },
      "execution_count": null,
      "outputs": [
        {
          "output_type": "stream",
          "name": "stdout",
          "text": [
            "합:30 평균:15.00\n"
          ]
        }
      ]
    },
    {
      "cell_type": "code",
      "source": [
        "a = 1\n",
        "while a <= 3 :\n",
        "  print('안녕', a)\n",
        "  a += 1"
      ],
      "metadata": {
        "colab": {
          "base_uri": "https://localhost:8080/"
        },
        "id": "p_X2PZQnCBkr",
        "outputId": "fc7eb551-2260-4ca9-d085-46ea762033c6"
      },
      "execution_count": null,
      "outputs": [
        {
          "output_type": "stream",
          "name": "stdout",
          "text": [
            "안녕 1\n",
            "안녕 2\n",
            "안녕 3\n"
          ]
        }
      ]
    },
    {
      "cell_type": "markdown",
      "source": [
        "2024/01/03 조건문 실습"
      ],
      "metadata": {
        "id": "O53YnSP6RDA0"
      }
    },
    {
      "cell_type": "code",
      "source": [
        "4-1\n",
        "# if 조건문의 기본 활용법\n",
        "# 점수를 세 번 입력받고 평균을 계산한 후, 전역 상수와 비교하여 클 경우에는 메시지를 출력\n",
        "\n",
        "# 전역 상수 선언\n",
        "HIGH_SCORE = 95\n",
        "\n",
        "def main():\n",
        "  # 점수를 세 번 입력받아 각 변수에 할당한다.\n",
        "  test1 = int(input('Enter the score for test 1: '))\n",
        "  test2 = int(input('Enter the score for test 2: '))\n",
        "  test3 = int(input('Enter the score for test 3: '))\n",
        "\n",
        "  average = (test1 + test2 + test3) / 3\n",
        "\n",
        "  print('The average score is', average)\n",
        "\n",
        "  # 평균값이 HIGH_SCORE 보다 클 경우에 메시지 출력\n",
        "  if average >= HIGH_SCORE:\n",
        "    print('Congratulations!')\n",
        "    print('That is a great average!')\n",
        "\n",
        "main()"
      ],
      "metadata": {
        "colab": {
          "base_uri": "https://localhost:8080/"
        },
        "id": "lgcatSUqRHav",
        "outputId": "86dd2cd5-eb1b-4b19-b197-54364401cde0"
      },
      "execution_count": null,
      "outputs": [
        {
          "output_type": "stream",
          "name": "stdout",
          "text": [
            "Enter the score for test 1: 93\n",
            "Enter the score for test 2: 99\n",
            "Enter the score for test 3: 96\n",
            "The average score is 96.0\n",
            "Congratulations!\n",
            "That is a great average!\n"
          ]
        }
      ]
    },
    {
      "cell_type": "code",
      "source": [
        "4-2\n",
        "# 근무시간과 시간당 급여를 입력받아 조건문으로 적절한 상황을 판단한 후 총 급여를 계산\n",
        "\n",
        "# 전역 상수 선언\n",
        "BASE_HOURS = 40       # Base hours per week\n",
        "OT_MULTIPLIER = 1.5   # Overtime multiplier\n",
        "\n",
        "def main():\n",
        "  # 근무시간과 시간당 급여를 입력받아 각 변수에 할당\n",
        "  hours_worked = float(input('Enter the number of hours worked: '))\n",
        "  pay_rate = float(input('Enter the hourly pay rate: '))\n",
        "\n",
        "  # 총 급여를 계산하고 그 결과를 출력\n",
        "  if hours_worked > BASE_HOURS:\n",
        "    calc_pay_with_OT(hours_worked, pay_rate)\n",
        "  else:\n",
        "    calc_regular_pay(hours_worked, pay_rate)\n",
        "\n",
        "# 근무시간이 BASE_HOURS 보다 크다면 초과근무 비율을 고려하여 계산\n",
        "def calc_pay_with_OT(hours, rate):\n",
        "  # 초과 근무시간을 계산\n",
        "  overtime_hours = hours - BASE_HOURS\n",
        "\n",
        "  # 초과 근무시간의 급여를 계산\n",
        "  overtime_pay = overtime_hours * rate * OT_MULTIPLIER\n",
        "\n",
        "  # 총 급여를 계산\n",
        "  gross_pay = BASE_HOURS * rate + overtime_pay\n",
        "\n",
        "  # 총 급여를 출력\n",
        "  print('The gross pay is $', format(gross_pay, ',.2f'), sep='')\n",
        "\n",
        "# 초과근무를 하지 않았다면 근무시간과 시간당 급여를 통해 총 급여를 계산하고 출력\n",
        "def calc_regular_pay(hours, rate):\n",
        "  # 총 급여를 계산\n",
        "  gross_pay = hours * rate\n",
        "\n",
        "  # 총 급여를 출력\n",
        "  print('The gross pay is $', format(gross_pay, ',.2f'), sep='')\n",
        "\n",
        "# main 함수를 호출\n",
        "main()"
      ],
      "metadata": {
        "colab": {
          "base_uri": "https://localhost:8080/"
        },
        "id": "rzADuvIFR1Tc",
        "outputId": "9788790d-eb35-4de0-d762-41cbe9e1a5e6"
      },
      "execution_count": null,
      "outputs": [
        {
          "output_type": "stream",
          "name": "stdout",
          "text": [
            "Enter the number of hours worked: 40\n",
            "Enter the hourly pay rate: 20\n",
            "The gross pay is $800.00\n"
          ]
        }
      ]
    },
    {
      "cell_type": "code",
      "source": [
        "4-3\n",
        "# 문자열을 입력받아서 비교하는 방법\n",
        "\n",
        "# 문자열을 입력받고 변수에 할당\n",
        "password = input('Enter the password: ')\n",
        "\n",
        "# 입력받은 문자열과 특정 문자열을 비교한 후 동일한 경우와 그렇지 않은 경우에 대해 각각 출력\n",
        "if password == 'prospero':\n",
        "  print('Password accepted.')\n",
        "else:\n",
        "  print('Sorry, that is the wrong password.')"
      ],
      "metadata": {
        "colab": {
          "base_uri": "https://localhost:8080/"
        },
        "id": "Xoln5MvVUAV5",
        "outputId": "b738e397-cab2-4791-c97a-7d2d453bad1c"
      },
      "execution_count": null,
      "outputs": [
        {
          "output_type": "stream",
          "name": "stdout",
          "text": [
            "Enter the password: prospero\n",
            "Password accepted.\n"
          ]
        }
      ]
    },
    {
      "cell_type": "code",
      "source": [
        "4-4\n",
        "# 비교 연산자 < 로 문자열의 순서를 비교\n",
        "\n",
        "# 이름 두 개를 문자열로 입력받고 각 변수에 할당\n",
        "name1 = input('Enter a name (last name first): ')\n",
        "name2 = input('Enter another name (last name first): ')\n",
        "\n",
        "# 입력받은 이름을 알파벳 순서에 따라 출력\n",
        "print('Here are the names, listed alphabetically.')\n",
        "\n",
        "if name1 < name2:\n",
        "  print(name1)\n",
        "  print(name2)\n",
        "else:\n",
        "  print(name2)\n",
        "  print(name1)"
      ],
      "metadata": {
        "colab": {
          "base_uri": "https://localhost:8080/"
        },
        "id": "TK2pL1BbUee5",
        "outputId": "56934a6b-4146-4b0c-880c-aeb3ec181f72"
      },
      "execution_count": null,
      "outputs": [
        {
          "output_type": "stream",
          "name": "stdout",
          "text": [
            "Enter a name (last name first): Jones, Richard\n",
            "Enter another name (last name first): Costa, Joan\n",
            "Here are the names, listed alphabetically.\n",
            "Costa, Joan\n",
            "Jones, Richard\n"
          ]
        }
      ]
    },
    {
      "cell_type": "code",
      "source": [
        "4-5\n",
        "# 중첩 if 문을 이용하여 점수에 대한 등급을 판단하는 프로그램\n",
        "\n",
        "# 각 점수 영역을 전역 상수로 선언\n",
        "A_SCORE = 90\n",
        "B_SCORE = 80\n",
        "C_SCORE = 70\n",
        "D_SCORE = 60\n",
        "\n",
        "def main():\n",
        "  # 사용자의 점수를 입력받고 변수에 할당\n",
        "  score = int(input('Enter your test score: '))\n",
        "\n",
        "  # 입력받은 점수에 대한 등급을 판단하고 메시지를 출력\n",
        "  if score >= A_SCORE:\n",
        "    print('Your grade is A.')\n",
        "  else:\n",
        "    if score >= B_SCORE:\n",
        "      print('Your grade is B.')\n",
        "    else:\n",
        "      if score >= C_SCORE:\n",
        "        print('Your grade is C.')\n",
        "      else:\n",
        "        if score >= D_SCORE:\n",
        "          print('Your grade is D.')\n",
        "        else:\n",
        "          print('Your grade is F.')\n",
        "\n",
        "main()"
      ],
      "metadata": {
        "colab": {
          "base_uri": "https://localhost:8080/"
        },
        "id": "4j7i58A7UxCM",
        "outputId": "4156d05c-9161-4d63-ced6-4c606746dd61"
      },
      "execution_count": null,
      "outputs": [
        {
          "output_type": "stream",
          "name": "stdout",
          "text": [
            "Enter your test score: 78\n",
            "Your grade is C.\n"
          ]
        }
      ]
    },
    {
      "cell_type": "code",
      "source": [
        "4-6\n",
        "# 중첩 if 문을 이용하여 점수에 대한 등급을 판단하는 프로그램\n",
        "\n",
        "# 각 점수 영역을 전역 상수로 선언\n",
        "A_SCORE = 90\n",
        "B_SCORE = 80\n",
        "C_SCORE = 70\n",
        "D_SCORE = 60\n",
        "\n",
        "def main():\n",
        "  # 사용자의 점수를 입력받고 변수에 할당\n",
        "  score = int(input('Enter your test score: '))\n",
        "\n",
        "  # 입력받은 점수에 대한 등급을 판단하고 메시지를 출력\n",
        "  if score >= A_SCORE:\n",
        "    print('Your grade is A.')\n",
        "  elif score >= B_SCORE:\n",
        "    print('Your grade is B.')\n",
        "  elif score >= C_SCORE:\n",
        "    print('Your grade is C.')\n",
        "  elif score >= D_SCORE:\n",
        "    print('Your grade is D.')\n",
        "  else:\n",
        "    print('Your grade is F.')\n",
        "\n",
        "main()"
      ],
      "metadata": {
        "colab": {
          "base_uri": "https://localhost:8080/"
        },
        "id": "y4xtM_QXVSLM",
        "outputId": "a389ab4d-8aad-45ae-952d-26ab4baf1ae6"
      },
      "execution_count": null,
      "outputs": [
        {
          "output_type": "stream",
          "name": "stdout",
          "text": [
            "Enter your test score: 78\n",
            "Your grade is C.\n"
          ]
        }
      ]
    }
  ]
}