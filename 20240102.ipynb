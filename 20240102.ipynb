{
  "nbformat": 4,
  "nbformat_minor": 0,
  "metadata": {
    "colab": {
      "provenance": [],
      "authorship_tag": "ABX9TyOOSN6v/UQIFIVRurBSqcUc",
      "include_colab_link": true
    },
    "kernelspec": {
      "name": "python3",
      "display_name": "Python 3"
    },
    "language_info": {
      "name": "python"
    }
  },
  "cells": [
    {
      "cell_type": "markdown",
      "metadata": {
        "id": "view-in-github",
        "colab_type": "text"
      },
      "source": [
        "<a href=\"https://colab.research.google.com/github/dubuuri/aipython/blob/main/20240102.ipynb\" target=\"_parent\"><img src=\"https://colab.research.google.com/assets/colab-badge.svg\" alt=\"Open In Colab\"/></a>"
      ]
    },
    {
      "cell_type": "code",
      "execution_count": 6,
      "metadata": {
        "colab": {
          "base_uri": "https://localhost:8080/"
        },
        "id": "QsUcGnlqus9v",
        "outputId": "e9709809-98a1-4861-9808-cc227a2c80da"
      },
      "outputs": [
        {
          "output_type": "stream",
          "name": "stdout",
          "text": [
            "당신의 나이는?23\n",
            "23 살 이군요.\n",
            "내년엔 24 살이 되네요.\n",
            "<class 'int'>\n"
          ]
        }
      ],
      "source": [
        "#나이를 입력받고 내년의 나이를 계산하여 출력하기\n",
        "\n",
        "#a를 int로\n",
        "a=int(input(\"당신의 나이는?\"))\n",
        "print(a, \"살 이군요.\")\n",
        "print(\"내년엔\", a+1, \"살이 되네요.\")\n",
        "print(type(a))"
      ]
    },
    {
      "cell_type": "code",
      "source": [
        "#a를 str로\n",
        "a=input(\"당신의 나이는?\")\n",
        "print(a, \"살 이군요.\")\n",
        "print(\"내년엔\", int(a)+1, \"살이 되네요.\")\n",
        "print(type(a))"
      ],
      "metadata": {
        "colab": {
          "base_uri": "https://localhost:8080/"
        },
        "id": "OFLO4v645N9P",
        "outputId": "e070fa6f-8c1f-4819-b2d4-8f21c3221105"
      },
      "execution_count": 2,
      "outputs": [
        {
          "output_type": "stream",
          "name": "stdout",
          "text": [
            "당신의 나이는?23\n",
            "23 살 이군요.\n",
            "내년엔 24 살이 되네요.\n",
            "<class 'str'>\n"
          ]
        }
      ]
    },
    {
      "cell_type": "code",
      "source": [
        "#변수 사용\n",
        "a=int(input(\"당신의 나이는?\"))\n",
        "msg=(\"%s살 이군요.\"%(a))\n",
        "print(msg)\n",
        "print(\"내년엔\", a+1, \"살이 되네요.\")\n",
        "print(type(a))"
      ],
      "metadata": {
        "colab": {
          "base_uri": "https://localhost:8080/"
        },
        "id": "yEx5-6xh5RbZ",
        "outputId": "8c834cb0-1d0b-49ee-9fdb-d14d35ac2ccd"
      },
      "execution_count": 4,
      "outputs": [
        {
          "output_type": "stream",
          "name": "stdout",
          "text": [
            "당신의 나이는?23\n",
            "23살 이군요.\n",
            "내년엔 24 살이 되네요.\n",
            "<class 'int'>\n"
          ]
        }
      ]
    },
    {
      "cell_type": "code",
      "source": [
        "a=\"파이썬\"\n",
        "print(a,\"아 반가워\")"
      ],
      "metadata": {
        "colab": {
          "base_uri": "https://localhost:8080/"
        },
        "id": "p2amqpgQ5uxT",
        "outputId": "d0e342cb-4752-4a2c-d7cf-fe6cae9e01b9"
      },
      "execution_count": 7,
      "outputs": [
        {
          "output_type": "stream",
          "name": "stdout",
          "text": [
            "파이썬 아 반가워\n"
          ]
        }
      ]
    },
    {
      "cell_type": "code",
      "source": [
        "a=\"파이썬\"\n",
        "msg=a+\"아 반가워\"\n",
        "print(msg)"
      ],
      "metadata": {
        "colab": {
          "base_uri": "https://localhost:8080/"
        },
        "id": "qVFjip9z58E8",
        "outputId": "12b141b1-f935-4164-82d9-5b75225e08cc"
      },
      "execution_count": 9,
      "outputs": [
        {
          "output_type": "stream",
          "name": "stdout",
          "text": [
            "파이썬아 반가워\n"
          ]
        }
      ]
    },
    {
      "cell_type": "code",
      "source": [
        "#변수 변환\n",
        "a=\"파이썬\"\n",
        "b=20\n",
        "print(\"%s야 반가워 %d살이구나\"%(a,b))"
      ],
      "metadata": {
        "colab": {
          "base_uri": "https://localhost:8080/"
        },
        "id": "_WxN6r6d6G5P",
        "outputId": "7ad3200a-ddf7-4264-ce2e-c5d8cbab9784"
      },
      "execution_count": 11,
      "outputs": [
        {
          "output_type": "stream",
          "name": "stdout",
          "text": [
            "파이썬야 반가워 20살이구나\n"
          ]
        }
      ]
    },
    {
      "cell_type": "code",
      "source": [
        "print(\"오늘은 {}월 {}일 입니다.\".format(1,2))\n",
        "print(\"오늘은 {:d}월 {:5.2f}일 입니다.\".format(1,2))"
      ],
      "metadata": {
        "colab": {
          "base_uri": "https://localhost:8080/"
        },
        "id": "w-TfAvbZ8HFS",
        "outputId": "41dc68ac-978c-475d-98b4-7948713f95aa"
      },
      "execution_count": 17,
      "outputs": [
        {
          "output_type": "stream",
          "name": "stdout",
          "text": [
            "오늘은 1월 2일 입니다.\n",
            "오늘은 1월  2.00일 입니다.\n"
          ]
        }
      ]
    },
    {
      "cell_type": "code",
      "source": [
        "name = \"홍길동\"\n",
        "age = 20.5\n",
        "\n",
        "print(\"이름은 {:>10s}이고 나이는 {:4.2f}입니다.\".format(name,age))"
      ],
      "metadata": {
        "colab": {
          "base_uri": "https://localhost:8080/"
        },
        "id": "RMbaKo5C82ek",
        "outputId": "ba046772-7e47-4ac1-f4da-77d0e0b482be"
      },
      "execution_count": 28,
      "outputs": [
        {
          "output_type": "stream",
          "name": "stdout",
          "text": [
            "이름은        홍길동이고 나이는 20.50입니다.\n"
          ]
        }
      ]
    },
    {
      "cell_type": "code",
      "source": [
        "a=24\n",
        "b=21\n",
        "c=(a+b)/2\n",
        "\n",
        "print(c)\n",
        "print(\"%d\"%c)\n",
        "print(\"%4d\"%c)\n",
        "print(\"%f\"%c)\n",
        "print(\"%3.1f\"%c)\n",
        "print(\"%6.2f\"%c)"
      ],
      "metadata": {
        "id": "pLm71m2a6tNZ"
      },
      "execution_count": null,
      "outputs": []
    },
    {
      "cell_type": "markdown",
      "source": [
        "2024/1/1 실습"
      ],
      "metadata": {
        "id": "Sk4JTzVFB8Tr"
      }
    },
    {
      "cell_type": "code",
      "source": [
        "2-6\n",
        "#하나의 변수를 활용하는 코드입니다.\n",
        "Lab = 105\n",
        "print(\"우리가 수업하는 실습실:\")\n",
        "print(Lab)"
      ],
      "metadata": {
        "colab": {
          "base_uri": "https://localhost:8080/"
        },
        "id": "yO2zOpyDB7u7",
        "outputId": "4ac4db0b-441d-4580-a167-f88672fbc804"
      },
      "execution_count": 31,
      "outputs": [
        {
          "output_type": "stream",
          "name": "stdout",
          "text": [
            "우리가 수업하는 실습실:\n",
            "105\n"
          ]
        }
      ]
    },
    {
      "cell_type": "code",
      "source": [
        "2-7\n",
        "#하나의 변수를 활용하는 코드입니다.\n",
        "Lab = 105\n",
        "print(\"우리가 수업하는 실습실:\",Lab)"
      ],
      "metadata": {
        "colab": {
          "base_uri": "https://localhost:8080/"
        },
        "id": "kBTx9X5nCLJB",
        "outputId": "330711df-245c-46ab-93f2-54f6ff539109"
      },
      "execution_count": 32,
      "outputs": [
        {
          "output_type": "stream",
          "name": "stdout",
          "text": [
            "우리가 수업하는 실습실: 105\n"
          ]
        }
      ]
    },
    {
      "cell_type": "code",
      "source": [
        "2-8\n",
        "#변수 두개를 생성하고 값을 할당\n",
        "my_id = 202211124\n",
        "grade = 2\n",
        "\n",
        "#두 개의 변수에 할당된 값을 출력\n",
        "print(\"나의 학번: \")\n",
        "print(my_id)\n",
        "print(\"학년: \")\n",
        "print(grade)"
      ],
      "metadata": {
        "colab": {
          "base_uri": "https://localhost:8080/"
        },
        "id": "B_nyVm25CTYC",
        "outputId": "9feab5a6-0635-4b13-e914-916b2cb95cc6"
      },
      "execution_count": 34,
      "outputs": [
        {
          "output_type": "stream",
          "name": "stdout",
          "text": [
            "나의 학번: \n",
            "202211124\n",
            "학년: \n",
            "2\n"
          ]
        }
      ]
    },
    {
      "cell_type": "code",
      "source": [
        "2-9\n",
        "#변수에 값을 할당하고 출력하는 예제입니다.\n",
        "\n",
        "#dollars 변수에 값을 할당\n",
        "dollars = 2.75\n",
        "print(\"I have\", dollars, \"in my account.\")\n",
        "\n",
        "#dollars 변수에 새로운 값을 할당\n",
        "dollars = 99.95\n",
        "print(\"But now I have\", dollars, \"in my account!\")"
      ],
      "metadata": {
        "colab": {
          "base_uri": "https://localhost:8080/"
        },
        "id": "EPD9RnzUCbbS",
        "outputId": "612643a0-667d-4704-e10a-77b55ecec256"
      },
      "execution_count": 35,
      "outputs": [
        {
          "output_type": "stream",
          "name": "stdout",
          "text": [
            "I have 2.75 in my account.\n",
            "But now I have 99.95 in my account!\n"
          ]
        }
      ]
    },
    {
      "cell_type": "code",
      "source": [
        "2-10\n",
        "#두 개의 변수를 생성하고 문자열을 할당합니다.\n",
        "department = \"수학과\"\n",
        "name = \"안유리\"\n",
        "\n",
        "#각 변수에 할당된 문자열 값 출력\n",
        "print(department, name)"
      ],
      "metadata": {
        "colab": {
          "base_uri": "https://localhost:8080/"
        },
        "id": "VVDGpAWMDNyM",
        "outputId": "723842ac-17cd-4ff5-f8dd-7a2829657a6d"
      },
      "execution_count": 36,
      "outputs": [
        {
          "output_type": "stream",
          "name": "stdout",
          "text": [
            "수학과 안유리\n"
          ]
        }
      ]
    },
    {
      "cell_type": "code",
      "source": [
        "2-11\n",
        "#학과명 입력받기\n",
        "department = input(\"학과명: \")\n",
        "\n",
        "#이름 입력받기\n",
        "name = input(\"이름: \")\n",
        "\n",
        "#두 변수의 값 출력\n",
        "print(\"안녕하세요\", department, name)"
      ],
      "metadata": {
        "colab": {
          "base_uri": "https://localhost:8080/"
        },
        "id": "4cOQuTchDdan",
        "outputId": "b0901ed6-27d4-4f53-f63f-9d26aa445a9b"
      },
      "execution_count": 37,
      "outputs": [
        {
          "output_type": "stream",
          "name": "stdout",
          "text": [
            "학과명: 수학과\n",
            "이름: 안유리\n",
            "안녕하세요 수학과 안유리\n"
          ]
        }
      ]
    },
    {
      "cell_type": "code",
      "source": [
        "2-12\n",
        "#이름, 나이, 통학시간 정보 입력받기\n",
        "name = input(\"당신의 이름은 무엇입니까? \")\n",
        "age = int(input(\"나이는 어떻게 되시나요? \"))\n",
        "attending_time = float(input(\"통학시간은 얼마나 걸립니까? \"))\n",
        "\n",
        "#변수에 입력된 데이터 출력\n",
        "print(\"입력 정보는 다음과 같습니다.\")\n",
        "print(\"이름: \", name)\n",
        "print(\"나이: \", age)\n",
        "print(\"통학시간: \", attending_time)"
      ],
      "metadata": {
        "colab": {
          "base_uri": "https://localhost:8080/"
        },
        "id": "W4F_9gWpDxsR",
        "outputId": "cd9c4391-39fd-42a9-d105-3f44eb25e699"
      },
      "execution_count": 41,
      "outputs": [
        {
          "output_type": "stream",
          "name": "stdout",
          "text": [
            "당신의 이름은 무엇입니까? 안유리\n",
            "나이는 어떻게 되시나요? 23\n",
            "통학시간은 얼마나 걸립니까? 0.5\n",
            "입력 정보는 다음과 같습니다.\n",
            "이름:  안유리\n",
            "나이:  23\n",
            "통학시간:  0.5\n"
          ]
        }
      ]
    },
    {
      "cell_type": "code",
      "source": [
        "2-13\n",
        "#salary 변수에 급여 할당\n",
        "salary = 2500.0\n",
        "\n",
        "#bonus 변수에 보너스 할당\n",
        "bonus = 1200.0\n",
        "\n",
        "#급여와 보너스를 더하여 총 급여 구하기\n",
        "#총 급여를 pay 변수에 할당\n",
        "pay = salary + bonus\n",
        "\n",
        "#총 급여 출력\n",
        "print(\"총 급여: \", pay)"
      ],
      "metadata": {
        "colab": {
          "base_uri": "https://localhost:8080/"
        },
        "id": "BwdyQBonEfew",
        "outputId": "b9c4888b-e605-425d-c76a-0c071a1390ac"
      },
      "execution_count": 43,
      "outputs": [
        {
          "output_type": "stream",
          "name": "stdout",
          "text": [
            "총 급여:  3700.0\n"
          ]
        }
      ]
    },
    {
      "cell_type": "code",
      "source": [
        "2-14\n",
        "#원가에 할인률을 적용하여 할인가격 계산\n",
        "\n",
        "#original price 변수에 원가 입력받기\n",
        "original_price = float(input(\"제품의 원가를 입력해주세요: \"))\n",
        "\n",
        "#원가에 할인률 20% 적용하여 할인가를 계산하고 discount 변수에 할당\n",
        "discount = original_price*0.2\n",
        "\n",
        "#원가에 할인가가 적용된 제품 가격을 계산하여 sale_price 변수에 할당\n",
        "sale_price = original_price - discount\n",
        "\n",
        "#할인가가 적용된 제품 가격을 출력\n",
        "print(\"할인가격: \", sale_price)"
      ],
      "metadata": {
        "colab": {
          "base_uri": "https://localhost:8080/"
        },
        "id": "hjS_4FGTFKKq",
        "outputId": "63eab51b-00ca-444f-ae3d-422bc4eb04c0"
      },
      "execution_count": 44,
      "outputs": [
        {
          "output_type": "stream",
          "name": "stdout",
          "text": [
            "제품의 원가를 입력해주세요: 100\n",
            "할인가격:  80.0\n"
          ]
        }
      ]
    },
    {
      "cell_type": "code",
      "source": [
        "2-15\n",
        "#세 과목의 평균 점수를 입력받고\n",
        "#test1, test2, test3 변수에 각각 할당\n",
        "test1 = float(input(\"첫 번째 과목 점수를 입력해주세요: \"))\n",
        "test2 = float(input(\"두 번째 과목 점수를 입력해주세요: \"))\n",
        "test3 = float(input(\"세 번째 과목 점수를 입력해주세요: \"))\n",
        "\n",
        "#세 과목 점수의 평균 계산하고\n",
        "#그 결과 값을 average 변수에 할당\n",
        "average = (test1 + test2 + test3) / 3.0\n",
        "\n",
        "#점수 평균 출력\n",
        "print(\"세 과목의 평균 점수: \", average)"
      ],
      "metadata": {
        "colab": {
          "base_uri": "https://localhost:8080/"
        },
        "id": "dfYITd3jGQ9Q",
        "outputId": "46388203-e8e6-4e63-a55b-1e9c0ace516a"
      },
      "execution_count": 45,
      "outputs": [
        {
          "output_type": "stream",
          "name": "stdout",
          "text": [
            "첫 번째 과목 점수를 입력해주세요: 90\n",
            "두 번째 과목 점수를 입력해주세요: 80\n",
            "세 번째 과목 점수를 입력해주세요: 100\n",
            "세 과목의 평균 점수:  90.0\n"
          ]
        }
      ]
    },
    {
      "cell_type": "code",
      "source": [
        "2-16\n",
        "#초를 입력받아 시, 분, 초로 변환하는 프로그램\n",
        "\n",
        "#초 값을 입력받아 total_seconds 변수에 할당\n",
        "total_seconds = float(input(\"시간 값을 초 단위로 입력해주세요: \"))\n",
        "\n",
        "#시간을 계산하여 hours 변수에 할당\n",
        "hours = total_seconds // 3600\n",
        "\n",
        "#분을 계산하여 minutes 변수에 할당\n",
        "minutes = (total_seconds // 60) % 60\n",
        "\n",
        "#초의 나머지 값을 seconds 변수에 할당\n",
        "seconds = total_seconds % 60\n",
        "\n",
        "#시, 분, 초 값 출력\n",
        "print(\"시 분 초는 다음과 같습니다.\")\n",
        "print(\"시: \", hours)\n",
        "print(\"분: \", minutes)\n",
        "print(\"초: \", seconds)"
      ],
      "metadata": {
        "colab": {
          "base_uri": "https://localhost:8080/"
        },
        "id": "gJeEFSQ3HGOm",
        "outputId": "2ecb5635-2cc4-4a5b-b7d9-14c19afc3166"
      },
      "execution_count": 46,
      "outputs": [
        {
          "output_type": "stream",
          "name": "stdout",
          "text": [
            "시간 값을 초 단위로 입력해주세요: 11730\n",
            "시 분 초는 다음과 같습니다.\n",
            "시:  3.0\n",
            "분:  15.0\n",
            "초:  30.0\n"
          ]
        }
      ]
    },
    {
      "cell_type": "code",
      "source": [
        "2-17\n",
        "#목표액을 특정 이율로 얻고자 할 경우 매년 적립해야할 금액을 계산\n",
        "\n",
        "#목표액을 입력받고 future_value 변수에 할당\n",
        "future_value = float(input('목표 금액을 입력해주세요: '))\n",
        "\n",
        "#연간 이율을 입력받고 rate 변수에 할당\n",
        "rate = float(input('연간 이율을 입력해주세요: '))\n",
        "\n",
        "#적립 기간을 입력받고 years 변수에 할당\n",
        "years = int(input('저축 기간을 연 단위로 입력해주세요: '))\n",
        "\n",
        "#특정 기간동안 적립해야할 금액을 계산하여 present_value 변수에 할당\n",
        "present_value = future_value / (1.0 + rate)**years\n",
        "\n",
        "#적립 금액 출력\n",
        "print('적립 금액: ', present_value)"
      ],
      "metadata": {
        "colab": {
          "base_uri": "https://localhost:8080/"
        },
        "id": "3pLqxvvcIbAH",
        "outputId": "5f88ca8c-fb09-4a19-e92e-c180c5b03b41"
      },
      "execution_count": 47,
      "outputs": [
        {
          "output_type": "stream",
          "name": "stdout",
          "text": [
            "목표 금액을 입력해주세요: 10000\n",
            "연간 이율을 입력해주세요: 0.05\n",
            "저축 기간을 연 단위로 입력해주세요: 10\n",
            "적립 금액:  6139.132535407592\n"
          ]
        }
      ]
    },
    {
      "cell_type": "code",
      "source": [
        "2-18\n",
        "#print() 함수에서 쉼표로 데이터를 구분하여 출력할 때\n",
        "#자동적으로 분리되는 빈 칸을 sep 옵션으로 제어\n",
        "print('a', 'b', 'c')\n",
        "print('a', 'b', 'c', sep='')\n",
        "print('a', 'b', 'c', sep='***')"
      ],
      "metadata": {
        "colab": {
          "base_uri": "https://localhost:8080/"
        },
        "id": "bvtv3O6OIv8V",
        "outputId": "c9c86c11-d9de-4c95-a054-379c5e977d41"
      },
      "execution_count": 48,
      "outputs": [
        {
          "output_type": "stream",
          "name": "stdout",
          "text": [
            "a b c\n",
            "abc\n",
            "a***b***c\n"
          ]
        }
      ]
    },
    {
      "cell_type": "code",
      "source": [
        "2-19\n",
        "#print() 함수를 여러 번 사용할 경우, 각 print() 함수가 수행된 후에는자동적으로 줄바꿈이 일어난다.\n",
        "#이는 커서가 자동으로 내려가기 때문인데\n",
        "#커서를 줄바꿈시키지 않고 바로 옆에 놓고 같은 줄에 여러 print() 함수의 내용을 나타내고자 할 때 end 옵션을 사용할 수 있다.\n",
        "print('a')\n",
        "print('b')\n",
        "print('c', end='')\n",
        "print('d', end='')\n",
        "print('e', end='***')\n",
        "print('f')"
      ],
      "metadata": {
        "colab": {
          "base_uri": "https://localhost:8080/"
        },
        "id": "5gX121Q-I_AU",
        "outputId": "61d047ef-1ef1-44ea-9533-e88d0ecdac0d"
      },
      "execution_count": 49,
      "outputs": [
        {
          "output_type": "stream",
          "name": "stdout",
          "text": [
            "a\n",
            "b\n",
            "cde***f\n"
          ]
        }
      ]
    },
    {
      "cell_type": "code",
      "source": [
        "2-20\n",
        "#부동 소수점이 출력되는 연산 수행\n",
        "#소수점 길이를 제어하지 않고 결과 값을 출력\n",
        "amount_due = 5000.0\n",
        "monthly_payment = amount_due / 12.0\n",
        "print(\"월급여: \", monthly_payment)"
      ],
      "metadata": {
        "colab": {
          "base_uri": "https://localhost:8080/"
        },
        "id": "otVUX7AZJbol",
        "outputId": "2858f3ea-ae7f-45a9-9625-a7ed70ad9d64"
      },
      "execution_count": 51,
      "outputs": [
        {
          "output_type": "stream",
          "name": "stdout",
          "text": [
            "월급여:  416.6666666666667\n"
          ]
        }
      ]
    },
    {
      "cell_type": "code",
      "source": [
        "2-21\n",
        "#소수점 자리를 제어하여 결과를 출력\n",
        "amount_due = 5000.0\n",
        "monthly_payment = amount_due / 12\n",
        "print('월급여: ', format(monthly_payment, '.2f'))"
      ],
      "metadata": {
        "colab": {
          "base_uri": "https://localhost:8080/"
        },
        "id": "bP8cr3qsJl4o",
        "outputId": "37140dc4-1e79-42b2-c23b-c58bf5c149b6"
      },
      "execution_count": 52,
      "outputs": [
        {
          "output_type": "stream",
          "name": "stdout",
          "text": [
            "월급여:  416.67\n"
          ]
        }
      ]
    },
    {
      "cell_type": "code",
      "source": [
        "2-22\n",
        "#소수점 자리를 제어하여 결과를 출력\n",
        "monthly_pay = 5000.0\n",
        "annual_pay = monthly_pay * 12\n",
        "print('Your annual pay is $', format(annual_pay, ',.2f'), sep='')"
      ],
      "metadata": {
        "colab": {
          "base_uri": "https://localhost:8080/"
        },
        "id": "EEixPuMgJwQj",
        "outputId": "de76cedf-08e6-4230-88fd-35d2d77b74b1"
      },
      "execution_count": 53,
      "outputs": [
        {
          "output_type": "stream",
          "name": "stdout",
          "text": [
            "Your annual pay is $60,000.00\n"
          ]
        }
      ]
    },
    {
      "cell_type": "code",
      "source": [
        "2-23\n",
        "#부동 소수점을 특정 너비에 맞추어 출력하는 방법\n",
        "#아래와 같이 각 변수에 부동 소수점이 포함된 값을 할당\n",
        "num1 = 127.899\n",
        "num2 = 3465.148\n",
        "num3 = 3.776\n",
        "num4 = 264.821\n",
        "num5 = 88.081\n",
        "num6 = 799.999\n",
        "\n",
        "#7칸에 맞추어 부동 소수점이 포함된 변수 값을 출력\n",
        "print(format(num1, '7.2f'))\n",
        "print(format(num2, '7.2f'))\n",
        "print(format(num3, '7.2f'))\n",
        "print(format(num4, '7.2f'))\n",
        "print(format(num5, '7.2f'))\n",
        "print(format(num6, '7.2f'))"
      ],
      "metadata": {
        "colab": {
          "base_uri": "https://localhost:8080/"
        },
        "id": "jN8SG2PLJ7dv",
        "outputId": "6c0b42c8-feea-483a-b617-ac6db4861919"
      },
      "execution_count": 54,
      "outputs": [
        {
          "output_type": "stream",
          "name": "stdout",
          "text": [
            " 127.90\n",
            "3465.15\n",
            "   3.78\n",
            " 264.82\n",
            "  88.08\n",
            " 800.00\n"
          ]
        }
      ]
    }
  ]
}