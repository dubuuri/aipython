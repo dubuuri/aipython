{
  "nbformat": 4,
  "nbformat_minor": 0,
  "metadata": {
    "colab": {
      "provenance": [],
      "authorship_tag": "ABX9TyNaevscSfIXaGkEn0UfO1Kh",
      "include_colab_link": true
    },
    "kernelspec": {
      "name": "python3",
      "display_name": "Python 3"
    },
    "language_info": {
      "name": "python"
    }
  },
  "cells": [
    {
      "cell_type": "markdown",
      "metadata": {
        "id": "view-in-github",
        "colab_type": "text"
      },
      "source": [
        "<a href=\"https://colab.research.google.com/github/dubuuri/aipython/blob/main/hello_ipynb%EC%9D%98_%EC%82%AC%EB%B3%B8.ipynb\" target=\"_parent\"><img src=\"https://colab.research.google.com/assets/colab-badge.svg\" alt=\"Open In Colab\"/></a>"
      ]
    },
    {
      "cell_type": "markdown",
      "source": [
        "Hello, World! 출력"
      ],
      "metadata": {
        "id": "1yy1rNH5Lq1P"
      }
    },
    {
      "cell_type": "code",
      "execution_count": null,
      "metadata": {
        "colab": {
          "base_uri": "https://localhost:8080/"
        },
        "id": "zDTP_fW0K_uU",
        "outputId": "17ef61eb-00d1-4e9d-a51d-b5d1a7c870f6"
      },
      "outputs": [
        {
          "output_type": "stream",
          "name": "stdout",
          "text": [
            "Hello, World!\n"
          ]
        }
      ],
      "source": [
        "#출력하기\n",
        "print(\"Hello, World!\")"
      ]
    },
    {
      "cell_type": "code",
      "source": [
        "# 두 정수 A와 B를 입력 받음\n",
        "A, B = map(int, input().split())\n",
        "\n",
        "# A와 B를 비교하여 결과를 출력\n",
        "if A > B:\n",
        "    print('>')\n",
        "elif A < B:\n",
        "    print('<')\n",
        "else:\n",
        "    print('==')"
      ],
      "metadata": {
        "colab": {
          "base_uri": "https://localhost:8080/"
        },
        "id": "Rc_A8Lq4PGZe",
        "outputId": "423489c9-ee8d-439a-b95d-82fb3101b952"
      },
      "execution_count": null,
      "outputs": [
        {
          "output_type": "stream",
          "name": "stdout",
          "text": [
            "1 2\n",
            "<\n"
          ]
        }
      ]
    }
  ]
}