{
  "nbformat": 4,
  "nbformat_minor": 0,
  "metadata": {
    "colab": {
      "provenance": [],
      "authorship_tag": "ABX9TyOGGv8B+i7nmIlkjuZrBG6S",
      "include_colab_link": true
    },
    "kernelspec": {
      "name": "python3",
      "display_name": "Python 3"
    },
    "language_info": {
      "name": "python"
    }
  },
  "cells": [
    {
      "cell_type": "markdown",
      "metadata": {
        "id": "view-in-github",
        "colab_type": "text"
      },
      "source": [
        "<a href=\"https://colab.research.google.com/github/dubuuri/aipython/blob/main/Untitled1.ipynb\" target=\"_parent\"><img src=\"https://colab.research.google.com/assets/colab-badge.svg\" alt=\"Open In Colab\"/></a>"
      ]
    },
    {
      "cell_type": "code",
      "execution_count": 6,
      "metadata": {
        "colab": {
          "base_uri": "https://localhost:8080/"
        },
        "id": "gnW1Xhnn_102",
        "outputId": "a7899d23-134b-4d27-a8fc-fabe55f8882a"
      },
      "outputs": [
        {
          "output_type": "stream",
          "name": "stdout",
          "text": [
            "부산대학교\n",
            "기초교육원\n",
            "컴퓨팅적 사고와 코딩\n"
          ]
        }
      ],
      "source": [
        "#2-1\n",
        "print('부산대학교')\n",
        "print('기초교육원')\n",
        "print('컴퓨팅적 사고와 코딩')"
      ]
    },
    {
      "cell_type": "code",
      "source": [
        "#2-2\n",
        "#화면에 여러 줄을\n",
        "#출력하는 방법에 대한 코드입니다.\n",
        "print(\"부산대학교\")\n",
        "print(\"기초교육원\")\n",
        "print(\"컴퓨팅적 사고와 코딩\")"
      ],
      "metadata": {
        "colab": {
          "base_uri": "https://localhost:8080/"
        },
        "id": "3xmtyspHAMaB",
        "outputId": "926bb53d-5e0b-4835-9d46-12387e29e5d0"
      },
      "execution_count": 7,
      "outputs": [
        {
          "output_type": "stream",
          "name": "stdout",
          "text": [
            "부산대학교\n",
            "기초교육원\n",
            "컴퓨팅적 사고와 코딩\n"
          ]
        }
      ]
    },
    {
      "cell_type": "code",
      "source": [
        "#2-3\n",
        "print(\"\"\"One\n",
        "Two\n",
        "Three\"\"\")"
      ],
      "metadata": {
        "colab": {
          "base_uri": "https://localhost:8080/"
        },
        "id": "6T-hMjhjAMhI",
        "outputId": "13bd15cc-e86a-4054-f024-a0ad7ccd6184"
      },
      "execution_count": 8,
      "outputs": [
        {
          "output_type": "stream",
          "name": "stdout",
          "text": [
            "One\n",
            "Two\n",
            "Three\n"
          ]
        }
      ]
    }
  ]
}