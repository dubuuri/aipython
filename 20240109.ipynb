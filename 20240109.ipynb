{
  "nbformat": 4,
  "nbformat_minor": 0,
  "metadata": {
    "colab": {
      "provenance": [],
      "authorship_tag": "ABX9TyMHOPvpPk2Gce89LOOHgKnM",
      "include_colab_link": true
    },
    "kernelspec": {
      "name": "python3",
      "display_name": "Python 3"
    },
    "language_info": {
      "name": "python"
    }
  },
  "cells": [
    {
      "cell_type": "markdown",
      "metadata": {
        "id": "view-in-github",
        "colab_type": "text"
      },
      "source": [
        "<a href=\"https://colab.research.google.com/github/dubuuri/aipython/blob/main/20240109.ipynb\" target=\"_parent\"><img src=\"https://colab.research.google.com/assets/colab-badge.svg\" alt=\"Open In Colab\"/></a>"
      ]
    },
    {
      "cell_type": "markdown",
      "source": [
        "# MID TERM review"
      ],
      "metadata": {
        "id": "8ctBSId9wtDF"
      }
    },
    {
      "cell_type": "code",
      "execution_count": 10,
      "metadata": {
        "colab": {
          "base_uri": "https://localhost:8080/"
        },
        "id": "bLnGi5GYrXrp",
        "outputId": "52813645-4652-43e7-98c3-83c67d26016c"
      },
      "outputs": [
        {
          "output_type": "stream",
          "name": "stdout",
          "text": [
            "45 45\n",
            "FAIL\n"
          ]
        }
      ],
      "source": [
        "# 학생수준평가 시험에서 영어 점수와 수학 점수가 합해서 100점이 넘으면 합격(PASS)이지만, 한 과목 점수가 40점 미만이라면 과목 미달로 불합격(FAIL)이다.\n",
        "# 영어, 수학 점수를 입력 받아 합격여부를 출력한다.\n",
        "\n",
        "# 입력 : 첫번째 입력값이 영어점수 두번째 입력값이 수학점수이다.\n",
        "# 출력 : 각 점수에 따라 결과가 다르게 출력된다.\n",
        "\n",
        "a, b = map(int,input().split())\n",
        "\n",
        "if a > 40 and b > 40 :\n",
        "  if a + b > 100 :\n",
        "    print(\"PASS\")\n",
        "  else :\n",
        "    print(\"FAIL\")\n",
        "elif a > 40 and b < 40 :\n",
        "  print(\"MATH FAIL\")\n",
        "elif a < 40 and b > 40 :\n",
        "  print(\"ENG FAIL\")\n",
        "else :\n",
        "  print(\"FAIL\")"
      ]
    },
    {
      "cell_type": "code",
      "source": [
        "# N개의 숫자가 공백없이 입력된다. 이 숫자를 모두 합쳐서 합을 출력하는 프로그램을 작성하시오\n",
        "\n",
        "# 입력 : 첫째 줄에 숫자 N개가 공백없이 주어진다\n",
        "# 출력 : 입력으로 주어진 숫자 N개의 합을 출력한다.\n",
        "\n",
        "n = list(map(int,input()))\n",
        "print(sum(n))"
      ],
      "metadata": {
        "colab": {
          "base_uri": "https://localhost:8080/"
        },
        "id": "r-73EK-7ySq4",
        "outputId": "9193aaca-1c35-4090-e67b-624467d553aa"
      },
      "execution_count": 14,
      "outputs": [
        {
          "output_type": "stream",
          "name": "stdout",
          "text": [
            "9876451\n",
            "40\n"
          ]
        }
      ]
    },
    {
      "cell_type": "code",
      "source": [
        "# 다음 리스트에서 확장자가 png나 jpg 인 파일명일 때, 확장자를 출력하는 파이썬 코드를 작성하세요.\n",
        "\n",
        "n = int(input())\n",
        "a = []\n",
        "\n",
        "for i in range(n) :\n",
        "  s = input()\n",
        "  p = list(s.split(\".\"))\n",
        "  if \"jpg\" in p or \"png\" in p :\n",
        "    a.append(s)\n",
        "print(a)"
      ],
      "metadata": {
        "colab": {
          "base_uri": "https://localhost:8080/"
        },
        "id": "E8mi3qqm0U1O",
        "outputId": "8f82866c-6517-47fd-e3a1-752e9a1eb01d"
      },
      "execution_count": 21,
      "outputs": [
        {
          "output_type": "stream",
          "name": "stdout",
          "text": [
            "3\n",
            "naver.com\n",
            "d.png\n",
            "s.jpg\n",
            "['d.png', 's.jpg']\n"
          ]
        }
      ]
    },
    {
      "cell_type": "markdown",
      "source": [
        "# 넘파이 실습"
      ],
      "metadata": {
        "id": "KiAcqmdb9Nqr"
      }
    },
    {
      "cell_type": "code",
      "source": [
        "import numpy as np\n",
        "\n",
        "n = np.arange(1,10,2)\n",
        "print(n)"
      ],
      "metadata": {
        "colab": {
          "base_uri": "https://localhost:8080/"
        },
        "id": "eaWlz9vmJqka",
        "outputId": "5624dfd3-72aa-4171-8e31-ba8c35e5f367"
      },
      "execution_count": 22,
      "outputs": [
        {
          "output_type": "stream",
          "name": "stdout",
          "text": [
            "[1 3 5 7 9]\n"
          ]
        }
      ]
    },
    {
      "cell_type": "code",
      "source": [
        "import numpy as np\n",
        "\n",
        "n = np.ones((3,4))\n",
        "print(n)"
      ],
      "metadata": {
        "colab": {
          "base_uri": "https://localhost:8080/"
        },
        "id": "Fv61YmPKJ3MD",
        "outputId": "cc6f8105-3032-4192-86eb-a736031b4306"
      },
      "execution_count": 23,
      "outputs": [
        {
          "output_type": "stream",
          "name": "stdout",
          "text": [
            "[[1. 1. 1. 1.]\n",
            " [1. 1. 1. 1.]\n",
            " [1. 1. 1. 1.]]\n"
          ]
        }
      ]
    },
    {
      "cell_type": "code",
      "source": [
        "import numpy as np\n",
        "\n",
        "n = np.linspace(0,1,10)\n",
        "print(n)"
      ],
      "metadata": {
        "colab": {
          "base_uri": "https://localhost:8080/"
        },
        "id": "FBOGrAuvJ88i",
        "outputId": "d31ffbd3-ccad-45df-a197-31a21c188c6d"
      },
      "execution_count": 25,
      "outputs": [
        {
          "output_type": "stream",
          "name": "stdout",
          "text": [
            "[0.         0.11111111 0.22222222 0.33333333 0.44444444 0.55555556\n",
            " 0.66666667 0.77777778 0.88888889 1.        ]\n"
          ]
        }
      ]
    },
    {
      "cell_type": "code",
      "source": [
        "import numpy as np\n",
        "\n",
        "a = np.arange(1,26).reshape(5,5)\n",
        "print(a)\n",
        "print(a.shape)\n",
        "print(a[3,3])\n",
        "print(a[0,0:2], a[1,0:2])\n",
        "print(a[3,3:5], a[4,3:5])\n",
        "print(a[0], a[1])\n",
        "print(a[0,3:5],a[1,3:5],a[2,3:5],a[3,3:5],a[4,3:5])"
      ],
      "metadata": {
        "colab": {
          "base_uri": "https://localhost:8080/"
        },
        "id": "4KGuH5-kOXTn",
        "outputId": "0cbca87e-178a-43ec-e88e-4507f675811b"
      },
      "execution_count": 26,
      "outputs": [
        {
          "output_type": "stream",
          "name": "stdout",
          "text": [
            "[[ 1  2  3  4  5]\n",
            " [ 6  7  8  9 10]\n",
            " [11 12 13 14 15]\n",
            " [16 17 18 19 20]\n",
            " [21 22 23 24 25]]\n",
            "(5, 5)\n",
            "19\n",
            "[1 2] [6 7]\n",
            "[19 20] [24 25]\n",
            "[1 2 3 4 5] [ 6  7  8  9 10]\n",
            "[4 5] [ 9 10] [14 15] [19 20] [24 25]\n"
          ]
        }
      ]
    },
    {
      "cell_type": "code",
      "source": [
        "a = np.arange(1,37).reshape(3,3,4)\n",
        "\n",
        "print(a)\n",
        "print(a.shape, a.ndim)\n",
        "print(a.reshape(3,4,3))\n",
        "print(a.reshape(36))"
      ],
      "metadata": {
        "id": "DCp5Vnt1OX2r"
      },
      "execution_count": null,
      "outputs": []
    }
  ]
}